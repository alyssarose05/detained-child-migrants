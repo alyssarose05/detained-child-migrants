{
  "nbformat": 4,
  "nbformat_minor": 0,
  "metadata": {
    "colab": {
      "provenance": [],
      "mount_file_id": "1lpXcKrp01YbRSugy_NctrVIynQ-4aSxr",
      "authorship_tag": "ABX9TyPm11lV1tYrnboPa2F5LRzt",
      "include_colab_link": true
    },
    "kernelspec": {
      "name": "python3",
      "display_name": "Python 3"
    },
    "language_info": {
      "name": "python"
    }
  },
  "cells": [
    {
      "cell_type": "markdown",
      "metadata": {
        "id": "view-in-github",
        "colab_type": "text"
      },
      "source": [
        "<a href=\"https://colab.research.google.com/github/alyssarose05/detained-child-migrants/blob/main/Combined_SQL.ipynb\" target=\"_parent\"><img src=\"https://colab.research.google.com/assets/colab-badge.svg\" alt=\"Open In Colab\"/></a>"
      ]
    },
    {
      "cell_type": "markdown",
      "source": [
        "# Set up detained migrant dataset"
      ],
      "metadata": {
        "id": "OZeger_xjSoI"
      }
    },
    {
      "cell_type": "markdown",
      "source": [
        "## Set up detained children database"
      ],
      "metadata": {
        "id": "DTyz5KPAjXJH"
      }
    },
    {
      "cell_type": "code",
      "execution_count": 1,
      "metadata": {
        "id": "XUx_qh5lDi-B"
      },
      "outputs": [],
      "source": [
        "# Import pandas and SQL\n",
        "import pandas as pd\n",
        "import sqlite3"
      ]
    },
    {
      "cell_type": "markdown",
      "source": [
        "### Initialize the database"
      ],
      "metadata": {
        "id": "GFo6eT0QkJai"
      }
    },
    {
      "cell_type": "code",
      "source": [
        "# Created detained_children database\n",
        "con = sqlite3.connect(\"detained_children.db\")"
      ],
      "metadata": {
        "id": "qoWyN-UfD9V7"
      },
      "execution_count": 2,
      "outputs": []
    },
    {
      "cell_type": "markdown",
      "source": [
        "### Upload migrant and continent data to `detained_children`"
      ],
      "metadata": {
        "id": "y5kPdjzSjde1"
      }
    },
    {
      "cell_type": "code",
      "source": [
        "# Upload NYTimes data to database\n",
        "children_df = pd.read_csv(\"data.csv\")\n",
        "children_df.to_sql(\"Migrants\", con, if_exists=\"replace\", index=False)"
      ],
      "metadata": {
        "colab": {
          "base_uri": "https://localhost:8080/"
        },
        "id": "XQiCic15E-iq",
        "outputId": "be094e0b-d9c8-450e-90d9-ec6301b6d2d0"
      },
      "execution_count": 3,
      "outputs": [
        {
          "output_type": "stream",
          "name": "stderr",
          "text": [
            "/tmp/ipython-input-3623372180.py:2: DtypeWarning: Columns (5) have mixed types. Specify dtype option on import or set low_memory=False.\n",
            "  children_df = pd.read_csv(\"data.csv\")\n"
          ]
        },
        {
          "output_type": "execute_result",
          "data": {
            "text/plain": [
              "553322"
            ]
          },
          "metadata": {},
          "execution_count": 3
        }
      ]
    },
    {
      "cell_type": "code",
      "source": [
        "# Upload continents to database\n",
        "continent_df = pd.read_csv(\"continents.csv\")\n",
        "continent_df.to_sql(\"Continents\", con, if_exists=\"replace\", index=False)"
      ],
      "metadata": {
        "colab": {
          "base_uri": "https://localhost:8080/"
        },
        "id": "P9y0h2E9FcOG",
        "outputId": "a1e85d05-1d90-4425-f767-75e623c3b252"
      },
      "execution_count": 4,
      "outputs": [
        {
          "output_type": "execute_result",
          "data": {
            "text/plain": [
              "196"
            ]
          },
          "metadata": {},
          "execution_count": 4
        }
      ]
    },
    {
      "cell_type": "markdown",
      "source": [
        "### Modify table columns"
      ],
      "metadata": {
        "id": "Xpu4cRY3jpDn"
      }
    },
    {
      "cell_type": "markdown",
      "source": [
        "The column names should be in `snake_case`, so that they're optimized for SQL queries. Also, the corresponding country and continent columns should have identical names, so that `Migrants` and `Continents` can be joined."
      ],
      "metadata": {
        "id": "bz30SEnVksuM"
      }
    },
    {
      "cell_type": "code",
      "source": [
        "# Rename columns in migrant data\n",
        "modified_migrant_df = pd.read_sql_query(\"\"\"\n",
        "    SELECT `ID` AS id,\n",
        "        `Child's Country of Origin` AS country,\n",
        "        `Child's Gender` AS gender,\n",
        "        `Child's Date of Entry` AS entry_date,\n",
        "        `Child's Date of Release` AS release_date,\n",
        "        `Sponsor Zipcode` AS  sponsor_zipcode,\n",
        "        `Sponsor Category` AS sponsor_category,\n",
        "        `Relationship of Sponsor` AS sponsor_relationship\n",
        "    FROM Migrants\n",
        "\"\"\", con)\n",
        "\n",
        "# Replace the `Migrants` table with modified column data\n",
        "modified_migrant_df.to_sql(\"Migrants\", con, if_exists=\"replace\", index=False)"
      ],
      "metadata": {
        "colab": {
          "base_uri": "https://localhost:8080/"
        },
        "id": "_MwpnfoQFuSM",
        "outputId": "b8eab1e7-8b71-40f4-83b0-47849200d7ef"
      },
      "execution_count": 5,
      "outputs": [
        {
          "output_type": "execute_result",
          "data": {
            "text/plain": [
              "553322"
            ]
          },
          "metadata": {},
          "execution_count": 5
        }
      ]
    },
    {
      "cell_type": "code",
      "source": [
        "# Rename columns in continent data\n",
        "modified_continent_df = pd.read_sql_query(\"\"\"\n",
        "    SELECT `Country` AS country,\n",
        "        `Continent` AS continent\n",
        "    FROM Continents\n",
        "\"\"\", con)\n",
        "\n",
        "# Replace the `Continents` table with modified column data\n",
        "modified_continent_df.to_sql(\"Continents\", con, if_exists=\"replace\", index=False)"
      ],
      "metadata": {
        "colab": {
          "base_uri": "https://localhost:8080/"
        },
        "id": "4xOotstRMZYx",
        "outputId": "44b9f4fd-6d28-4672-cdcf-e6c983ef1a8f"
      },
      "execution_count": 6,
      "outputs": [
        {
          "output_type": "execute_result",
          "data": {
            "text/plain": [
              "196"
            ]
          },
          "metadata": {},
          "execution_count": 6
        }
      ]
    },
    {
      "cell_type": "markdown",
      "source": [
        "## Retrieve final dataframe"
      ],
      "metadata": {
        "id": "ixzsG2r5jyzM"
      }
    },
    {
      "cell_type": "markdown",
      "source": [
        "### Join `Migrants` and `Continents`"
      ],
      "metadata": {
        "id": "HvfEfzhLkXwR"
      }
    },
    {
      "cell_type": "markdown",
      "source": [
        "Joining `Migrants` and `Continents` based on the `country` column will allow us to get the `continent` of each child migrant."
      ],
      "metadata": {
        "id": "Nkp_fQLpk2zA"
      }
    },
    {
      "cell_type": "code",
      "source": [
        "final_df = pd.read_sql_query(\"\"\"\n",
        "  SELECT a.country, b.continent, gender, entry_date, release_date, sponsor_zipcode, sponsor_category, sponsor_relationship\n",
        "  FROM Migrants a\n",
        "  LEFT JOIN Continents b\n",
        "  ON a.country = b.country;\n",
        "\"\"\", con)"
      ],
      "metadata": {
        "id": "O53msDayHMOS"
      },
      "execution_count": 7,
      "outputs": []
    },
    {
      "cell_type": "markdown",
      "source": [
        "### Save and close the database"
      ],
      "metadata": {
        "id": "ipBZorA1j5FK"
      }
    },
    {
      "cell_type": "markdown",
      "source": [
        "The result of the SQL query above will be used for further analysis with Tableau."
      ],
      "metadata": {
        "id": "PkcGw2fplrh5"
      }
    },
    {
      "cell_type": "code",
      "source": [
        "# Save dataframe as CSV file\n",
        "final_df.to_csv(\"final_df.csv\", index=False)"
      ],
      "metadata": {
        "id": "krfOVIA5JPgv"
      },
      "execution_count": 8,
      "outputs": []
    },
    {
      "cell_type": "code",
      "source": [
        "# Close database connection\n",
        "con.close()"
      ],
      "metadata": {
        "id": "1BsCrmvsPjzo"
      },
      "execution_count": 9,
      "outputs": []
    }
  ]
}